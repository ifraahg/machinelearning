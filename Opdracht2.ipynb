{
 "cells": [
  {
   "cell_type": "markdown",
   "id": "a3c44ce4",
   "metadata": {},
   "source": [
    "## Portfolio 1"
   ]
  },
  {
   "cell_type": "markdown",
   "id": "c710ea2c",
   "metadata": {},
   "source": [
    "* Teamnaam: The Overfitters\n",
    "* Teamnamen:\n",
    "     * Rogier Gernaat\n",
    "     * Tim Oosterling\n",
    "     * Ifraah Ghedi\n",
    "\n"
   ]
  },
  {
   "cell_type": "code",
   "execution_count": 1,
   "id": "5baa5f1c",
   "metadata": {},
   "outputs": [],
   "source": [
    "import pandas as pd\n",
    "import numpy as np\n",
    "import matplotlib.pyplot as plt\n",
    "import seaborn as sns"
   ]
  },
  {
   "cell_type": "code",
   "execution_count": 2,
   "id": "d019e96a",
   "metadata": {},
   "outputs": [],
   "source": [
    "train =  pd.read_csv(\"train_c.csv\")\n",
    "test = pd.read_csv(\"test_c.csv\")\n",
    "submission = pd.read_csv(\"submission_example.csv\")"
   ]
  },
  {
   "cell_type": "code",
   "execution_count": 11,
   "id": "746c6943",
   "metadata": {},
   "outputs": [],
   "source": [
    "from sklearn.linear_model import LogisticRegression\n",
    "from sklearn.metrics import accuracy_score\n",
    "from sklearn.model_selection import train_test_split\n",
    "from sklearn.metrics import f1_score\n",
    "from sklearn.metrics import precision_score\n",
    "from sklearn.metrics import recall_score"
   ]
  },
  {
   "cell_type": "code",
   "execution_count": 12,
   "id": "b6d2cd86",
   "metadata": {},
   "outputs": [],
   "source": [
    "# Split de data in X en y Train en Test data\n",
    "X = train.drop('Outcome', axis=1)\n",
    "y = train['Outcome']\n",
    "X_train, X_test, y_train, y_test = train_test_split(X, y, test_size=0.3, random_state=42)"
   ]
  },
  {
   "cell_type": "code",
   "execution_count": 13,
   "id": "ceb4c71c",
   "metadata": {},
   "outputs": [],
   "source": [
    "# Logistic Regressie model maken en fitten\n",
    "model = LogisticRegression(max_iter =  1000)\n",
    "model.fit(X_train, y_train)\n",
    "y_pred = model.predict(X_test)"
   ]
  },
  {
   "cell_type": "code",
   "execution_count": 30,
   "id": "8914c7d5",
   "metadata": {},
   "outputs": [
    {
     "name": "stdout",
     "output_type": "stream",
     "text": [
      "Accuracy Score: 76.22%\n",
      "Precision Score: 72.73%\n",
      "Recall Score: 57.97%\n",
      "F1-score: 64.52%\n"
     ]
    }
   ],
   "source": [
    "# Accuracy score berekenen\n",
    "accuracy = accuracy_score(y_test, y_pred)\n",
    "print(f\"Accuracy Score: {accuracy * 100:.2f}%\")\n",
    "\n",
    "Precision = precision_score(y_test, y_pred)\n",
    "print(f\"Precision Score: {Precision * 100:.2f}%\")\n",
    "\n",
    "recall = recall_score(y_test, y_pred)\n",
    "print(f\"Recall Score: {recall * 100:.2f}%\")\n",
    "\n",
    "f1 = f1_score(y_test, y_pred)\n",
    "print(f\"F1-score: {f1 * 100:.2f}%\")\n",
    "\n"
   ]
  },
  {
   "cell_type": "code",
   "execution_count": 40,
   "id": "726f05c0",
   "metadata": {},
   "outputs": [],
   "source": [
    "from sklearn.metrics import confusion_matrix, ConfusionMatrixDisplay\n",
    "cm = confusion_matrix(y_test, y_pred)\n"
   ]
  },
  {
   "cell_type": "code",
   "execution_count": 41,
   "id": "1b261fc3",
   "metadata": {},
   "outputs": [
    {
     "name": "stdout",
     "output_type": "stream",
     "text": [
      "Accuracy Score: 76.22%\n",
      "Precision Score: 72.73%\n",
      "Recall Score: 57.97%\n",
      "F1-score: 64.52%\n"
     ]
    }
   ],
   "source": [
    "TN = cm[0,0]\n",
    "TP = cm[1,1]\n",
    "FN = cm[1,0]\n",
    "FP = cm[0,1]\n",
    "accuracy = (TN + TP) / (TN + FP + TP + FN)\n",
    "precision = TP / (TP + FP)\n",
    "recall = TP / (TP + FN)\n",
    "f1 = 2* precision * recall / (precision + recall)\n",
    "print(f\"Accuracy Score: {accuracy * 100:.2f}%\")\n",
    "print(f\"Precision Score: {Precision * 100:.2f}%\")\n",
    "print(f\"Recall Score: {recall * 100:.2f}%\")\n",
    "print(f\"F1-score: {f1 * 100:.2f}%\")"
   ]
  },
  {
   "cell_type": "code",
   "execution_count": 39,
   "id": "f74c6215",
   "metadata": {},
   "outputs": [
    {
     "data": {
      "text/plain": [
       "array([[101,  15],\n",
       "       [ 29,  40]], dtype=int64)"
      ]
     },
     "metadata": {},
     "output_type": "display_data"
    },
    {
     "data": {
      "image/png": "[encoded data removed]",
      "text/plain": [
       "<Figure size 640x480 with 2 Axes>"
      ]
     },
     "metadata": {},
     "output_type": "display_data"
    }
   ],
   "source": [
    "disp = ConfusionMatrixDisplay(cm)\n",
    "disp.plot()\n",
    "display(cm)"
   ]
  },
  {
   "cell_type": "markdown",
   "id": "8d757f3c",
   "metadata": {},
   "source": [
    "##### Deze opdracht heeft betrekking op een bepaalde vorm van machine learning. Welke vorm is dit? Licht het antwoord toe.\n",
    "\n",
    "Voor het voorspellen van suikerziekte(diabetes) gebruiken we feature kolommen om de \"Outcome\" kolom te voorspellen. De kolom Outcome heeft 2\n",
    "mogelijke values 0 voor geen suikerziekte en 1 voor wel suikerziekte. Hierbij hebben we dus te maken met een classificatie probleem\n",
    "\n",
    "##### Geef aan met welke “metrics”, voor deze vorm van machine learning, bepaalt kan worden hoe goed een model presteert. Toon de uitkomsten op deze metrics aan de hand van een zelf te kiezen machine learning algoritme. \n",
    "\n",
    "1. Nauwkeurigheid (Accuracy):\n",
    "   Geeft het percentage van de correct voorspelde observaties aan ten opzichte van het totaal aantal observaties.\n",
    "\n",
    "2. Precision (Precisie):\n",
    "   Van alle positieve voorspellingen, hoeveel waren er daadwerkelijk positief.\n",
    "\n",
    "3. Recall(Gevoeligheid):\n",
    "   Van alle werkelijke positieve gevallen, hoeveel hebben we correct voorspeld.\n",
    "\n",
    "4. F1-score:\n",
    "   De harmonische gemiddelde van Precision en Recall en biedt een evenwicht tussen de twee.\n",
    "\n",
    "Om dit te weergeven in Jupyter notebook hebben we gekozen voor Logistic Regression\n",
    "\n",
    "##### Kies een metric die in jullie ogen het meest relevant is en beargumenteer je keuze\n",
    "Hierbij denken wij dat accuracy de belangrijkste metric is om naar te kijken sinds wij het meest benieuwd zijn naar \n",
    "de verhouding van correct voorspelde observaties tot het totaal aantal observaties.\n",
    "\n",
    "###### EXTRA: We missen nog een kleine extra uitleg over hoe de \"Metrics\" worden berekend aan de hand van de confusion matrics(CM). en misschien de tekst nog wat netter of uitgebreider uitleggen"
   ]
  },
  {
   "cell_type": "code",
   "execution_count": null,
   "id": "7945a6dc",
   "metadata": {},
   "outputs": [],
   "source": []
  }
 ],
 "metadata": {
  "kernelspec": {
   "display_name": "Python 3 (ipykernel)",
   "language": "python",
   "name": "python3"
  },
  "language_info": {
   "codemirror_mode": {
    "name": "ipython",
    "version": 3
   },
   "file_extension": ".py",
   "mimetype": "text/x-python",
   "name": "python",
   "nbconvert_exporter": "python",
   "pygments_lexer": "ipython3",
   "version": "3.10.9"
  }
 },
 "nbformat": 4,
 "nbformat_minor": 5
}
